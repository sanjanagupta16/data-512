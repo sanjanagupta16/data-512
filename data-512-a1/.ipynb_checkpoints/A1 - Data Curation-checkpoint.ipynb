{
 "cells": [
  {
   "cell_type": "markdown",
   "metadata": {},
   "source": [
    "* Importing all the libraries required:"
   ]
  },
  {
   "cell_type": "code",
   "execution_count": 1,
   "metadata": {},
   "outputs": [],
   "source": [
    "import json\n",
    "import requests\n",
    "import pandas as pd\n",
    "import numpy as np\n",
    "import matplotlib.pyplot as plt\n",
    "import matplotlib.dates as mdates"
   ]
  },
  {
   "cell_type": "markdown",
   "metadata": {},
   "source": [
    "### Step 1: Gathering the data"
   ]
  },
  {
   "cell_type": "markdown",
   "metadata": {},
   "source": [
    "* Defining the API end points:"
   ]
  },
  {
   "cell_type": "code",
   "execution_count": 2,
   "metadata": {},
   "outputs": [],
   "source": [
    "endpoint_legacy = 'https://wikimedia.org/api/rest_v1/metrics/legacy/pagecounts/aggregate/{project}/{access-site}/{granularity}/{start}/{end}'\n",
    "\n",
    "endpoint_pageviews = 'https://wikimedia.org/api/rest_v1/metrics/pageviews/aggregate/{project}/{access}/{agent}/{granularity}/{start}/{end}'"
   ]
  },
  {
   "cell_type": "markdown",
   "metadata": {},
   "source": [
    "* Setting up API URLs with parameters:"
   ]
  },
  {
   "cell_type": "code",
   "execution_count": 3,
   "metadata": {},
   "outputs": [],
   "source": [
    "# SAMPLE parameters for getting aggregated legacy view data \n",
    "# see: https://wikimedia.org/api/rest_v1/#!/Legacy_data/get_metrics_legacy_pagecounts_aggregate_project_access_site_granularity_start_end\n",
    "params_legacy_desktop = {\"project\" : \"en.wikipedia.org\",\n",
    "                 \"access-site\" : \"desktop-site\",\n",
    "                 \"granularity\" : \"monthly\",\n",
    "                 \"start\" : \"2008010100\",\n",
    "                 \"end\" : \"2016080100\"\n",
    "                    }\n",
    "\n",
    "params_legacy_mobile = {\"project\" : \"en.wikipedia.org\",\n",
    "                 \"access-site\" : \"mobile-site\",\n",
    "                 \"granularity\" : \"monthly\",\n",
    "                 \"start\" : \"2008010100\",\n",
    "                 \"end\" : \"2016080100\"\n",
    "                    }\n",
    "\n",
    "params_pageviews_desktop = {\"project\" : \"en.wikipedia.org\",\n",
    "                    \"access\" : \"desktop\",\n",
    "                    \"agent\" : \"user\",\n",
    "                    \"granularity\" : \"monthly\",\n",
    "                    \"start\" : \"2015070100\",\n",
    "                    \"end\" : '2020090100'\n",
    "                        }\n",
    "\n",
    "params_pageviews_mobile_app = {\"project\" : \"en.wikipedia.org\",\n",
    "                    \"access\" : \"mobile-app\",\n",
    "                    \"agent\" : \"user\",\n",
    "                    \"granularity\" : \"monthly\",\n",
    "                    \"start\" : \"2015070100\",\n",
    "                    \"end\" : '2020090100'\n",
    "                        }\n",
    "\n",
    "params_pageviews_mobile_web = {\"project\" : \"en.wikipedia.org\",\n",
    "                    \"access\" : \"mobile-web\",\n",
    "                    \"agent\" : \"user\",\n",
    "                    \"granularity\" : \"monthly\",\n",
    "                    \"start\" : \"2015070100\",\n",
    "                    \"end\" : '2020090100'\n",
    "                        }\n",
    "# Customize these with your own information\n",
    "headers = {\n",
    "    'User-Agent': 'https://github.com/sanjanagupta16',\n",
    "    'From': 'sanjana.1125@gmail.com'\n",
    "}"
   ]
  },
  {
   "cell_type": "markdown",
   "metadata": {},
   "source": [
    "* Function to fetch API data:"
   ]
  },
  {
   "cell_type": "code",
   "execution_count": 4,
   "metadata": {},
   "outputs": [],
   "source": [
    "def api_call(endpoint,parameters):\n",
    "    call = requests.get(endpoint.format(**parameters), headers=headers)\n",
    "    response = call.json()\n",
    "    \n",
    "    return response"
   ]
  },
  {
   "cell_type": "markdown",
   "metadata": {},
   "source": [
    "* API request to get the data:"
   ]
  },
  {
   "cell_type": "code",
   "execution_count": 5,
   "metadata": {},
   "outputs": [],
   "source": [
    "# Pagecounts API\n",
    "monthly_pagecounts_desktop = api_call(endpoint_legacy, params_legacy_desktop)\n",
    "monthly_pagecounts_mobile = api_call(endpoint_legacy, params_legacy_mobile)\n",
    "\n",
    "# Pageviews API\n",
    "monthly_pageviews_desktop = api_call(endpoint_pageviews, params_pageviews_desktop)\n",
    "monthly_pageviews_mobile_app = api_call(endpoint_pageviews, params_pageviews_mobile_app)\n",
    "monthly_pageviews_mobile_web = api_call(endpoint_pageviews, params_pageviews_mobile_web)"
   ]
  },
  {
   "cell_type": "markdown",
   "metadata": {},
   "source": [
    "* Saving data in JSON format:"
   ]
  },
  {
   "cell_type": "code",
   "execution_count": 6,
   "metadata": {},
   "outputs": [],
   "source": [
    "# Pagecounts data\n",
    "with open('pagecounts_desktop-site_200801-201607.json', 'w') as json_file:\n",
    "    json.dump(monthly_pagecounts_desktop, json_file)\n",
    "\n",
    "with open('pagecounts_mobile-site_200801-201607.json', 'w') as json_file:\n",
    "    json.dump(monthly_pagecounts_mobile, json_file)\n",
    "\n",
    "# Pageviews data\n",
    "with open('pageviews_desktop_201507-202008.json', 'w') as json_file:\n",
    "    json.dump(monthly_pageviews_desktop, json_file)\n",
    "\n",
    "with open('pageviews_mobile-app_201507-202008.json', 'w') as json_file:\n",
    "    json.dump(monthly_pageviews_mobile_app, json_file)\n",
    "\n",
    "with open('pageviews_mobile-web_201507-202008.json', 'w') as json_file:\n",
    "    json.dump(monthly_pageviews_mobile_web, json_file)"
   ]
  },
  {
   "cell_type": "markdown",
   "metadata": {},
   "source": [
    "### Step 2: Processing the data"
   ]
  },
  {
   "cell_type": "markdown",
   "metadata": {},
   "source": [
    "* Opening JSON files in a pandas dataframe:"
   ]
  },
  {
   "cell_type": "code",
   "execution_count": 22,
   "metadata": {},
   "outputs": [],
   "source": [
    "# Pagecounts data\n",
    "df_pagecounts_desktop_aux = pd.read_json('pagecounts_desktop-site_200801-201607.json')\n",
    "df_pagecounts_desktop = pd.json_normalize(df_pagecounts_desktop_aux[\"items\"])\n",
    "df_pagecounts_mobile_aux = pd.read_json('pagecounts_mobile-site_200801-201607.json')\n",
    "df_pagecounts_mobile = pd.json_normalize(df_pagecounts_mobile_aux[\"items\"])\n",
    "\n",
    "# Pageviews data\n",
    "df_pageviews_desktop_aux = pd.read_json('pageviews_desktop_201507-202008.json')\n",
    "df_pageviews_desktop = pd.json_normalize(df_pageviews_desktop_aux[\"items\"])\n",
    "df_pageviews_mobile_app_aux = pd.read_json('pageviews_mobile-app_201507-202008.json')\n",
    "df_pageviews_mobile_app = pd.json_normalize(df_pageviews_mobile_app_aux[\"items\"])\n",
    "df_pageviews_mobile_web_aux = pd.read_json('pageviews_mobile-web_201507-202008.json')\n",
    "df_pageviews_mobile_web = pd.json_normalize(df_pageviews_mobile_web_aux[\"items\"])"
   ]
  },
  {
   "cell_type": "markdown",
   "metadata": {},
   "source": [
    "* Dropping unwanted columns, and renaming the rest:"
   ]
  },
  {
   "cell_type": "code",
   "execution_count": 8,
   "metadata": {},
   "outputs": [],
   "source": [
    "# Pagecounts data\n",
    "df_pagecounts_desktop = df_pagecounts_desktop[[\"timestamp\", \"count\"]]\n",
    "df_pagecounts_desktop = df_pagecounts_desktop.rename(columns = {'count': 'pagecount_desktop_views'})\n",
    "df_pagecounts_mobile = df_pagecounts_mobile[[\"timestamp\", \"count\"]]\n",
    "df_pagecounts_mobile = df_pagecounts_mobile.rename(columns = {'count': 'pagecount_mobile_views'})\n",
    "\n",
    "# Pageviews data\n",
    "df_pageviews_desktop = df_pageviews_desktop[[\"timestamp\", \"views\"]]\n",
    "df_pageviews_desktop = df_pageviews_desktop.rename(columns = {'views': 'pageview_desktop_views'})\n",
    "df_pageviews_mobile_app = df_pageviews_mobile_app[[\"timestamp\", \"views\"]]\n",
    "df_pageviews_mobile_app = df_pageviews_mobile_app.rename(columns = {'views': 'pageview_mobile_app_views'})\n",
    "df_pageviews_mobile_web = df_pageviews_mobile_web[[\"timestamp\", \"views\"]]\n",
    "df_pageviews_mobile_web = df_pageviews_mobile_web.rename(columns = {'views': 'pageview_mobile_web_views'})"
   ]
  },
  {
   "cell_type": "markdown",
   "metadata": {},
   "source": [
    "* Merging mobile and desktop dataframes based on timestamp:"
   ]
  },
  {
   "cell_type": "code",
   "execution_count": 9,
   "metadata": {},
   "outputs": [],
   "source": [
    "df_combined = df_pagecounts_desktop.merge(df_pagecounts_mobile, how='outer', on='timestamp')\n",
    "df_combined = df_combined.merge(df_pageviews_desktop, how='outer', on='timestamp')\n",
    "df_combined = df_combined.merge(df_pageviews_mobile_app, how='outer', on='timestamp')\n",
    "df_combined = df_combined.merge(df_pageviews_mobile_web, how='outer', on='timestamp')"
   ]
  },
  {
   "cell_type": "markdown",
   "metadata": {},
   "source": [
    "* Replacing NA's with 0:"
   ]
  },
  {
   "cell_type": "code",
   "execution_count": 10,
   "metadata": {},
   "outputs": [],
   "source": [
    "df_combined = df_combined.fillna(0)"
   ]
  },
  {
   "cell_type": "markdown",
   "metadata": {},
   "source": [
    "* Adding new columns:"
   ]
  },
  {
   "cell_type": "code",
   "execution_count": 11,
   "metadata": {},
   "outputs": [],
   "source": [
    "df_combined['pageview_mobile_views'] = df_combined['pageview_mobile_app_views'] + df_combined['pageview_mobile_web_views']\n",
    "df_combined['pageview_all_views'] = df_combined['pageview_desktop_views'] + df_combined['pageview_mobile_views']\n",
    "df_combined['pagecount_all_views'] = df_combined['pagecount_desktop_views'] + df_combined['pagecount_mobile_views']\n",
    "df_combined['year'] = df_combined['timestamp'].str[:4]\n",
    "df_combined['month'] = df_combined['timestamp'].str[4:6]"
   ]
  },
  {
   "cell_type": "markdown",
   "metadata": {},
   "source": [
    "* Re-ordering columns:"
   ]
  },
  {
   "cell_type": "code",
   "execution_count": 12,
   "metadata": {},
   "outputs": [],
   "source": [
    "df_combined = df_combined[['year', 'month', 'pagecount_all_views', 'pagecount_desktop_views', 'pagecount_mobile_views', 'pageview_all_views', 'pageview_desktop_views', 'pageview_mobile_views']]"
   ]
  },
  {
   "cell_type": "markdown",
   "metadata": {},
   "source": [
    "* Writing results to a csv file:"
   ]
  },
  {
   "cell_type": "code",
   "execution_count": 13,
   "metadata": {},
   "outputs": [],
   "source": [
    "df_combined.to_csv('en-wikipedia_traffic_200801-202008.csv', index = False)"
   ]
  },
  {
   "cell_type": "markdown",
   "metadata": {},
   "source": [
    "### Step 3: Analyzing the data"
   ]
  },
  {
   "cell_type": "markdown",
   "metadata": {},
   "source": [
    "* Read csv into a pandas dataframe:"
   ]
  },
  {
   "cell_type": "code",
   "execution_count": 14,
   "metadata": {},
   "outputs": [],
   "source": [
    "wiki_views = pd.read_csv('en-wikipedia_traffic_200801-202008.csv', dtype={'month': object})"
   ]
  },
  {
   "cell_type": "code",
   "execution_count": 15,
   "metadata": {},
   "outputs": [],
   "source": [
    "wiki_views['date'] = wiki_views['year'].astype(str) + wiki_views['month']\n",
    "wiki_views['date'] = pd.to_datetime(wiki_views['date'], format='%Y%m')"
   ]
  },
  {
   "cell_type": "markdown",
   "metadata": {},
   "source": [
    "* Replacing 0's with NaNs to remove 0 values.\n",
    "* Dividing page views by 1 million to change the Y axis scale:"
   ]
  },
  {
   "cell_type": "code",
   "execution_count": 16,
   "metadata": {},
   "outputs": [],
   "source": [
    "cols = ['pagecount_all_views', 'pagecount_desktop_views', 'pagecount_mobile_views', 'pageview_all_views', 'pageview_desktop_views', 'pageview_mobile_views']\n",
    "\n",
    "wiki_views[cols] = wiki_views[cols].replace({0:np.nan})\n",
    "wiki_views[cols] = wiki_views[cols]/1000000"
   ]
  },
  {
   "cell_type": "markdown",
   "metadata": {},
   "source": [
    "* Generating a plot:"
   ]
  },
  {
   "cell_type": "code",
   "execution_count": 25,
   "metadata": {},
   "outputs": [
    {
     "data": {
      "image/png": "[encoded data removed]",
      "text/plain": [
       "<Figure size 1080x360 with 1 Axes>"
      ]
     },
     "metadata": {
      "needs_background": "light"
     },
     "output_type": "display_data"
    }
   ],
   "source": [
    "# Plotting\n",
    "plt.plot( 'date', 'pagecount_desktop_views', data=wiki_views, marker='', color='green', linewidth=1.5, linestyle='dashed', label=\"main site\")\n",
    "plt.plot( 'date', 'pagecount_mobile_views', data=wiki_views, marker='', color='blue', linewidth=1.5, linestyle='dashed', label=\"mobile site\")\n",
    "plt.plot( 'date', 'pagecount_all_views', data=wiki_views, marker='', color='black', linewidth=1.5, linestyle='dashed', label=\"total\")\n",
    "plt.plot( 'date', 'pageview_desktop_views', data=wiki_views, marker='', color='green', linewidth=1.5, label='_Hidden label')\n",
    "plt.plot( 'date', 'pageview_mobile_views', data=wiki_views, marker='', color='blue', linewidth=1.5, label='_Hidden label')\n",
    "plt.plot( 'date', 'pageview_all_views', data=wiki_views, marker='', color='black', linewidth=1.5, label='_Hidden label')\n",
    "\n",
    "# Adding legend info\n",
    "plt.legend(loc = 'upper left')\n",
    "\n",
    "# Adding Grid lines\n",
    "plt.grid()\n",
    "\n",
    "# Title and text\n",
    "plt.title('Page Views on English Wikipedia (x 1,000,000)')\n",
    "plt.figtext(0.5, 0.025, 'May 2015: a new pageview definition took effect, which eliminated all crawler traffic. Solid lines mark new definition.', ha=\"center\", color=\"red\")\n",
    "\n",
    "# Y axis labels\n",
    "plt.yticks(np.arange(0, 14000, 2000))\n",
    "\n",
    "# X axis labels\n",
    "years = mdates.YearLocator()\n",
    "years_fmt = mdates.DateFormatter('%Y')\n",
    "\n",
    "ax = plt.gca()\n",
    "ax.xaxis.set_major_locator(years)\n",
    "ax.xaxis.set_major_formatter(years_fmt)\n",
    "\n",
    "datemin = np.datetime64(wiki_views['date'].min(), 'Y')\n",
    "datemax = np.datetime64(wiki_views['date'].max(), 'Y') + np.timedelta64(1, 'Y')\n",
    "ax.set_xlim(datemin, datemax)\n",
    "\n",
    "# Save plot\n",
    "plt.savefig('wikipedia_pageviews.png')\n",
    "\n",
    "plt.show()"
   ]
  },
  {
   "cell_type": "code",
   "execution_count": null,
   "metadata": {},
   "outputs": [],
   "source": []
  }
 ],
 "metadata": {
  "kernelspec": {
   "display_name": "Python 3",
   "language": "python",
   "name": "python3"
  },
  "language_info": {
   "codemirror_mode": {
    "name": "ipython",
    "version": 3
   },
   "file_extension": ".py",
   "mimetype": "text/x-python",
   "name": "python",
   "nbconvert_exporter": "python",
   "pygments_lexer": "ipython3",
   "version": "3.7.6"
  }
 },
 "nbformat": 4,
 "nbformat_minor": 4
}
